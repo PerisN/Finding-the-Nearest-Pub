{
  "nbformat": 4,
  "nbformat_minor": 0,
  "metadata": {
    "colab": {
      "provenance": [],
      "mount_file_id": "1tzQTlU8zw9XGbYYFPc9GbHishoXMZFnG",
      "authorship_tag": "ABX9TyNMXG2EJVv1FLykND9/+Acy"
    },
    "kernelspec": {
      "name": "python3",
      "display_name": "Python 3"
    },
    "language_info": {
      "name": "python"
    }
  },
  "cells": [
    {
      "cell_type": "markdown",
      "source": [
        "# **Open Pub Application**\n",
        "\n",
        "## **Case Study**\n",
        "\n",
        "Let’s assume you are on a vacation in the United Kingdom with your friends. For fun, you decided to go to the Pubs nearby for some drinks. Google Map is down because of some issues. \n",
        "\n",
        "While searching the internet, you came across https://www.getthedata.com/open-pubs. On this website, you found all the pub locations (Specifically Latitude and Longitude info). In order to impress your friends, you decided to create a web application with the data available in your hand.\n"
      ],
      "metadata": {
        "id": "gPSv0vHa0Y-A"
      }
    },
    {
      "cell_type": "markdown",
      "source": [
        "## **Data Description**\n",
        "\n",
        "**fsa_id** : Food Standard Agency's ID for this pub.\n",
        "\n",
        "**name** : Name of the pub.\n",
        "\n",
        "**address** : Address fields separated by commas.\n",
        "\n",
        "**postcode** : Postcode of the pub.\n",
        "\n",
        "**easting**\t: Easting coordinate of the pub's location.\n",
        "\n",
        "**northing** : Northing coordinate of the pub's location.\n",
        "\n",
        "**latitude** : Latitude coordinate of the pub's location.\n",
        "\n",
        "**longitude** : Longitude coordinate of the pub's location.\n",
        "\n",
        "**local_authority** : Local authority this pub falls under."
      ],
      "metadata": {
        "id": "FwT20kPq92DT"
      }
    },
    {
      "cell_type": "code",
      "source": [
        "#!pip install basemap"
      ],
      "metadata": {
        "id": "_SBfbvqVgUmS"
      },
      "execution_count": null,
      "outputs": []
    },
    {
      "cell_type": "code",
      "execution_count": 2,
      "metadata": {
        "id": "-syME6r6o3bb"
      },
      "outputs": [],
      "source": [
        "# Import Libraries\n",
        "\n",
        "import pandas as pd\n",
        "import numpy as np\n",
        "\n",
        "from mpl_toolkits.basemap import Basemap\n",
        "import matplotlib.pyplot as plt"
      ]
    },
    {
      "cell_type": "markdown",
      "source": [
        "## **Read the Data**"
      ],
      "metadata": {
        "id": "BA_2oSEW2Bg3"
      }
    },
    {
      "cell_type": "code",
      "source": [
        "# Read the data\n",
        "\n",
        "df = pd.read_csv('/content/open_pubs.csv')\n",
        "\n",
        "df.head()"
      ],
      "metadata": {
        "colab": {
          "base_uri": "https://localhost:8080/",
          "height": 206
        },
        "id": "_El4VkZ24Ydj",
        "outputId": "e75c0e35-c53e-4f79-84a8-ff7eb4c9adfc"
      },
      "execution_count": 3,
      "outputs": [
        {
          "output_type": "execute_result",
          "data": {
            "text/plain": [
              "   22          Anchor Inn        Upper Street, Stratford St Mary, COLCHESTER  \\\n",
              "0  36  Ark Bar Restaurant  Ark Bar And Restaurant, Cattawade Street, Bran...   \n",
              "1  74           Black Boy  The Lady Elizabeth, 7 Market Hill, SUDBURY, Su...   \n",
              "2  75         Black Horse        Lower Street, Stratford St Mary, COLCHESTER   \n",
              "3  76          Black Lion                      Lion Road, Glemsford, SUDBURY   \n",
              "4  97        Brewers Arms  The Brewers Arms, Bower House Tye, Polstead, C...   \n",
              "\n",
              "    CO7 6LW  604749   234404  51.970379  0.979340  Babergh  \n",
              "0  CO11 1RH  610194   233329  51.958698  1.057832  Babergh  \n",
              "1  CO10 2EA  587334   241316  52.038595  0.729915  Babergh  \n",
              "2   CO7 6JS  622675 -5527598         \\N        \\N  Babergh  \n",
              "3  CO10 7RF  622675 -5527598         \\N        \\N  Babergh  \n",
              "4   CO6 5BZ  598743   240655  52.028694  0.895650  Babergh  "
            ],
            "text/html": [
              "\n",
              "  <div id=\"df-f81ffa5b-ccc7-45e9-93c0-30eff39456c2\">\n",
              "    <div class=\"colab-df-container\">\n",
              "      <div>\n",
              "<style scoped>\n",
              "    .dataframe tbody tr th:only-of-type {\n",
              "        vertical-align: middle;\n",
              "    }\n",
              "\n",
              "    .dataframe tbody tr th {\n",
              "        vertical-align: top;\n",
              "    }\n",
              "\n",
              "    .dataframe thead th {\n",
              "        text-align: right;\n",
              "    }\n",
              "</style>\n",
              "<table border=\"1\" class=\"dataframe\">\n",
              "  <thead>\n",
              "    <tr style=\"text-align: right;\">\n",
              "      <th></th>\n",
              "      <th>22</th>\n",
              "      <th>Anchor Inn</th>\n",
              "      <th>Upper Street, Stratford St Mary, COLCHESTER</th>\n",
              "      <th>CO7 6LW</th>\n",
              "      <th>604749</th>\n",
              "      <th>234404</th>\n",
              "      <th>51.970379</th>\n",
              "      <th>0.979340</th>\n",
              "      <th>Babergh</th>\n",
              "    </tr>\n",
              "  </thead>\n",
              "  <tbody>\n",
              "    <tr>\n",
              "      <th>0</th>\n",
              "      <td>36</td>\n",
              "      <td>Ark Bar Restaurant</td>\n",
              "      <td>Ark Bar And Restaurant, Cattawade Street, Bran...</td>\n",
              "      <td>CO11 1RH</td>\n",
              "      <td>610194</td>\n",
              "      <td>233329</td>\n",
              "      <td>51.958698</td>\n",
              "      <td>1.057832</td>\n",
              "      <td>Babergh</td>\n",
              "    </tr>\n",
              "    <tr>\n",
              "      <th>1</th>\n",
              "      <td>74</td>\n",
              "      <td>Black Boy</td>\n",
              "      <td>The Lady Elizabeth, 7 Market Hill, SUDBURY, Su...</td>\n",
              "      <td>CO10 2EA</td>\n",
              "      <td>587334</td>\n",
              "      <td>241316</td>\n",
              "      <td>52.038595</td>\n",
              "      <td>0.729915</td>\n",
              "      <td>Babergh</td>\n",
              "    </tr>\n",
              "    <tr>\n",
              "      <th>2</th>\n",
              "      <td>75</td>\n",
              "      <td>Black Horse</td>\n",
              "      <td>Lower Street, Stratford St Mary, COLCHESTER</td>\n",
              "      <td>CO7 6JS</td>\n",
              "      <td>622675</td>\n",
              "      <td>-5527598</td>\n",
              "      <td>\\N</td>\n",
              "      <td>\\N</td>\n",
              "      <td>Babergh</td>\n",
              "    </tr>\n",
              "    <tr>\n",
              "      <th>3</th>\n",
              "      <td>76</td>\n",
              "      <td>Black Lion</td>\n",
              "      <td>Lion Road, Glemsford, SUDBURY</td>\n",
              "      <td>CO10 7RF</td>\n",
              "      <td>622675</td>\n",
              "      <td>-5527598</td>\n",
              "      <td>\\N</td>\n",
              "      <td>\\N</td>\n",
              "      <td>Babergh</td>\n",
              "    </tr>\n",
              "    <tr>\n",
              "      <th>4</th>\n",
              "      <td>97</td>\n",
              "      <td>Brewers Arms</td>\n",
              "      <td>The Brewers Arms, Bower House Tye, Polstead, C...</td>\n",
              "      <td>CO6 5BZ</td>\n",
              "      <td>598743</td>\n",
              "      <td>240655</td>\n",
              "      <td>52.028694</td>\n",
              "      <td>0.895650</td>\n",
              "      <td>Babergh</td>\n",
              "    </tr>\n",
              "  </tbody>\n",
              "</table>\n",
              "</div>\n",
              "      <button class=\"colab-df-convert\" onclick=\"convertToInteractive('df-f81ffa5b-ccc7-45e9-93c0-30eff39456c2')\"\n",
              "              title=\"Convert this dataframe to an interactive table.\"\n",
              "              style=\"display:none;\">\n",
              "        \n",
              "  <svg xmlns=\"http://www.w3.org/2000/svg\" height=\"24px\"viewBox=\"0 0 24 24\"\n",
              "       width=\"24px\">\n",
              "    <path d=\"M0 0h24v24H0V0z\" fill=\"none\"/>\n",
              "    <path d=\"M18.56 5.44l.94 2.06.94-2.06 2.06-.94-2.06-.94-.94-2.06-.94 2.06-2.06.94zm-11 1L8.5 8.5l.94-2.06 2.06-.94-2.06-.94L8.5 2.5l-.94 2.06-2.06.94zm10 10l.94 2.06.94-2.06 2.06-.94-2.06-.94-.94-2.06-.94 2.06-2.06.94z\"/><path d=\"M17.41 7.96l-1.37-1.37c-.4-.4-.92-.59-1.43-.59-.52 0-1.04.2-1.43.59L10.3 9.45l-7.72 7.72c-.78.78-.78 2.05 0 2.83L4 21.41c.39.39.9.59 1.41.59.51 0 1.02-.2 1.41-.59l7.78-7.78 2.81-2.81c.8-.78.8-2.07 0-2.86zM5.41 20L4 18.59l7.72-7.72 1.47 1.35L5.41 20z\"/>\n",
              "  </svg>\n",
              "      </button>\n",
              "      \n",
              "  <style>\n",
              "    .colab-df-container {\n",
              "      display:flex;\n",
              "      flex-wrap:wrap;\n",
              "      gap: 12px;\n",
              "    }\n",
              "\n",
              "    .colab-df-convert {\n",
              "      background-color: #E8F0FE;\n",
              "      border: none;\n",
              "      border-radius: 50%;\n",
              "      cursor: pointer;\n",
              "      display: none;\n",
              "      fill: #1967D2;\n",
              "      height: 32px;\n",
              "      padding: 0 0 0 0;\n",
              "      width: 32px;\n",
              "    }\n",
              "\n",
              "    .colab-df-convert:hover {\n",
              "      background-color: #E2EBFA;\n",
              "      box-shadow: 0px 1px 2px rgba(60, 64, 67, 0.3), 0px 1px 3px 1px rgba(60, 64, 67, 0.15);\n",
              "      fill: #174EA6;\n",
              "    }\n",
              "\n",
              "    [theme=dark] .colab-df-convert {\n",
              "      background-color: #3B4455;\n",
              "      fill: #D2E3FC;\n",
              "    }\n",
              "\n",
              "    [theme=dark] .colab-df-convert:hover {\n",
              "      background-color: #434B5C;\n",
              "      box-shadow: 0px 1px 3px 1px rgba(0, 0, 0, 0.15);\n",
              "      filter: drop-shadow(0px 1px 2px rgba(0, 0, 0, 0.3));\n",
              "      fill: #FFFFFF;\n",
              "    }\n",
              "  </style>\n",
              "\n",
              "      <script>\n",
              "        const buttonEl =\n",
              "          document.querySelector('#df-f81ffa5b-ccc7-45e9-93c0-30eff39456c2 button.colab-df-convert');\n",
              "        buttonEl.style.display =\n",
              "          google.colab.kernel.accessAllowed ? 'block' : 'none';\n",
              "\n",
              "        async function convertToInteractive(key) {\n",
              "          const element = document.querySelector('#df-f81ffa5b-ccc7-45e9-93c0-30eff39456c2');\n",
              "          const dataTable =\n",
              "            await google.colab.kernel.invokeFunction('convertToInteractive',\n",
              "                                                     [key], {});\n",
              "          if (!dataTable) return;\n",
              "\n",
              "          const docLinkHtml = 'Like what you see? Visit the ' +\n",
              "            '<a target=\"_blank\" href=https://colab.research.google.com/notebooks/data_table.ipynb>data table notebook</a>'\n",
              "            + ' to learn more about interactive tables.';\n",
              "          element.innerHTML = '';\n",
              "          dataTable['output_type'] = 'display_data';\n",
              "          await google.colab.output.renderOutput(dataTable, element);\n",
              "          const docLink = document.createElement('div');\n",
              "          docLink.innerHTML = docLinkHtml;\n",
              "          element.appendChild(docLink);\n",
              "        }\n",
              "      </script>\n",
              "    </div>\n",
              "  </div>\n",
              "  "
            ]
          },
          "metadata": {},
          "execution_count": 3
        }
      ]
    },
    {
      "cell_type": "code",
      "source": [
        "# Define column names as a list of strings\n",
        "\n",
        "column_names = ['fsa_id', 'name', 'address', 'postcode', 'easting', 'northing','latitude', 'longitude', 'local_authority']\n",
        "\n",
        "# Assign column names to DataFrame\n",
        "df.columns = column_names\n",
        "\n",
        "df.head()"
      ],
      "metadata": {
        "colab": {
          "base_uri": "https://localhost:8080/",
          "height": 250
        },
        "id": "fcbTxpmH727j",
        "outputId": "90a6e26d-3b3f-4a92-93ce-fa945333fa29"
      },
      "execution_count": 4,
      "outputs": [
        {
          "output_type": "execute_result",
          "data": {
            "text/plain": [
              "   fsa_id                name  \\\n",
              "0      36  Ark Bar Restaurant   \n",
              "1      74           Black Boy   \n",
              "2      75         Black Horse   \n",
              "3      76          Black Lion   \n",
              "4      97        Brewers Arms   \n",
              "\n",
              "                                             address  postcode  easting  \\\n",
              "0  Ark Bar And Restaurant, Cattawade Street, Bran...  CO11 1RH   610194   \n",
              "1  The Lady Elizabeth, 7 Market Hill, SUDBURY, Su...  CO10 2EA   587334   \n",
              "2        Lower Street, Stratford St Mary, COLCHESTER   CO7 6JS   622675   \n",
              "3                      Lion Road, Glemsford, SUDBURY  CO10 7RF   622675   \n",
              "4  The Brewers Arms, Bower House Tye, Polstead, C...   CO6 5BZ   598743   \n",
              "\n",
              "   northing   latitude longitude local_authority  \n",
              "0    233329  51.958698  1.057832         Babergh  \n",
              "1    241316  52.038595  0.729915         Babergh  \n",
              "2  -5527598         \\N        \\N         Babergh  \n",
              "3  -5527598         \\N        \\N         Babergh  \n",
              "4    240655  52.028694  0.895650         Babergh  "
            ],
            "text/html": [
              "\n",
              "  <div id=\"df-1d81174d-4da1-4994-8ebc-df620e739c17\">\n",
              "    <div class=\"colab-df-container\">\n",
              "      <div>\n",
              "<style scoped>\n",
              "    .dataframe tbody tr th:only-of-type {\n",
              "        vertical-align: middle;\n",
              "    }\n",
              "\n",
              "    .dataframe tbody tr th {\n",
              "        vertical-align: top;\n",
              "    }\n",
              "\n",
              "    .dataframe thead th {\n",
              "        text-align: right;\n",
              "    }\n",
              "</style>\n",
              "<table border=\"1\" class=\"dataframe\">\n",
              "  <thead>\n",
              "    <tr style=\"text-align: right;\">\n",
              "      <th></th>\n",
              "      <th>fsa_id</th>\n",
              "      <th>name</th>\n",
              "      <th>address</th>\n",
              "      <th>postcode</th>\n",
              "      <th>easting</th>\n",
              "      <th>northing</th>\n",
              "      <th>latitude</th>\n",
              "      <th>longitude</th>\n",
              "      <th>local_authority</th>\n",
              "    </tr>\n",
              "  </thead>\n",
              "  <tbody>\n",
              "    <tr>\n",
              "      <th>0</th>\n",
              "      <td>36</td>\n",
              "      <td>Ark Bar Restaurant</td>\n",
              "      <td>Ark Bar And Restaurant, Cattawade Street, Bran...</td>\n",
              "      <td>CO11 1RH</td>\n",
              "      <td>610194</td>\n",
              "      <td>233329</td>\n",
              "      <td>51.958698</td>\n",
              "      <td>1.057832</td>\n",
              "      <td>Babergh</td>\n",
              "    </tr>\n",
              "    <tr>\n",
              "      <th>1</th>\n",
              "      <td>74</td>\n",
              "      <td>Black Boy</td>\n",
              "      <td>The Lady Elizabeth, 7 Market Hill, SUDBURY, Su...</td>\n",
              "      <td>CO10 2EA</td>\n",
              "      <td>587334</td>\n",
              "      <td>241316</td>\n",
              "      <td>52.038595</td>\n",
              "      <td>0.729915</td>\n",
              "      <td>Babergh</td>\n",
              "    </tr>\n",
              "    <tr>\n",
              "      <th>2</th>\n",
              "      <td>75</td>\n",
              "      <td>Black Horse</td>\n",
              "      <td>Lower Street, Stratford St Mary, COLCHESTER</td>\n",
              "      <td>CO7 6JS</td>\n",
              "      <td>622675</td>\n",
              "      <td>-5527598</td>\n",
              "      <td>\\N</td>\n",
              "      <td>\\N</td>\n",
              "      <td>Babergh</td>\n",
              "    </tr>\n",
              "    <tr>\n",
              "      <th>3</th>\n",
              "      <td>76</td>\n",
              "      <td>Black Lion</td>\n",
              "      <td>Lion Road, Glemsford, SUDBURY</td>\n",
              "      <td>CO10 7RF</td>\n",
              "      <td>622675</td>\n",
              "      <td>-5527598</td>\n",
              "      <td>\\N</td>\n",
              "      <td>\\N</td>\n",
              "      <td>Babergh</td>\n",
              "    </tr>\n",
              "    <tr>\n",
              "      <th>4</th>\n",
              "      <td>97</td>\n",
              "      <td>Brewers Arms</td>\n",
              "      <td>The Brewers Arms, Bower House Tye, Polstead, C...</td>\n",
              "      <td>CO6 5BZ</td>\n",
              "      <td>598743</td>\n",
              "      <td>240655</td>\n",
              "      <td>52.028694</td>\n",
              "      <td>0.895650</td>\n",
              "      <td>Babergh</td>\n",
              "    </tr>\n",
              "  </tbody>\n",
              "</table>\n",
              "</div>\n",
              "      <button class=\"colab-df-convert\" onclick=\"convertToInteractive('df-1d81174d-4da1-4994-8ebc-df620e739c17')\"\n",
              "              title=\"Convert this dataframe to an interactive table.\"\n",
              "              style=\"display:none;\">\n",
              "        \n",
              "  <svg xmlns=\"http://www.w3.org/2000/svg\" height=\"24px\"viewBox=\"0 0 24 24\"\n",
              "       width=\"24px\">\n",
              "    <path d=\"M0 0h24v24H0V0z\" fill=\"none\"/>\n",
              "    <path d=\"M18.56 5.44l.94 2.06.94-2.06 2.06-.94-2.06-.94-.94-2.06-.94 2.06-2.06.94zm-11 1L8.5 8.5l.94-2.06 2.06-.94-2.06-.94L8.5 2.5l-.94 2.06-2.06.94zm10 10l.94 2.06.94-2.06 2.06-.94-2.06-.94-.94-2.06-.94 2.06-2.06.94z\"/><path d=\"M17.41 7.96l-1.37-1.37c-.4-.4-.92-.59-1.43-.59-.52 0-1.04.2-1.43.59L10.3 9.45l-7.72 7.72c-.78.78-.78 2.05 0 2.83L4 21.41c.39.39.9.59 1.41.59.51 0 1.02-.2 1.41-.59l7.78-7.78 2.81-2.81c.8-.78.8-2.07 0-2.86zM5.41 20L4 18.59l7.72-7.72 1.47 1.35L5.41 20z\"/>\n",
              "  </svg>\n",
              "      </button>\n",
              "      \n",
              "  <style>\n",
              "    .colab-df-container {\n",
              "      display:flex;\n",
              "      flex-wrap:wrap;\n",
              "      gap: 12px;\n",
              "    }\n",
              "\n",
              "    .colab-df-convert {\n",
              "      background-color: #E8F0FE;\n",
              "      border: none;\n",
              "      border-radius: 50%;\n",
              "      cursor: pointer;\n",
              "      display: none;\n",
              "      fill: #1967D2;\n",
              "      height: 32px;\n",
              "      padding: 0 0 0 0;\n",
              "      width: 32px;\n",
              "    }\n",
              "\n",
              "    .colab-df-convert:hover {\n",
              "      background-color: #E2EBFA;\n",
              "      box-shadow: 0px 1px 2px rgba(60, 64, 67, 0.3), 0px 1px 3px 1px rgba(60, 64, 67, 0.15);\n",
              "      fill: #174EA6;\n",
              "    }\n",
              "\n",
              "    [theme=dark] .colab-df-convert {\n",
              "      background-color: #3B4455;\n",
              "      fill: #D2E3FC;\n",
              "    }\n",
              "\n",
              "    [theme=dark] .colab-df-convert:hover {\n",
              "      background-color: #434B5C;\n",
              "      box-shadow: 0px 1px 3px 1px rgba(0, 0, 0, 0.15);\n",
              "      filter: drop-shadow(0px 1px 2px rgba(0, 0, 0, 0.3));\n",
              "      fill: #FFFFFF;\n",
              "    }\n",
              "  </style>\n",
              "\n",
              "      <script>\n",
              "        const buttonEl =\n",
              "          document.querySelector('#df-1d81174d-4da1-4994-8ebc-df620e739c17 button.colab-df-convert');\n",
              "        buttonEl.style.display =\n",
              "          google.colab.kernel.accessAllowed ? 'block' : 'none';\n",
              "\n",
              "        async function convertToInteractive(key) {\n",
              "          const element = document.querySelector('#df-1d81174d-4da1-4994-8ebc-df620e739c17');\n",
              "          const dataTable =\n",
              "            await google.colab.kernel.invokeFunction('convertToInteractive',\n",
              "                                                     [key], {});\n",
              "          if (!dataTable) return;\n",
              "\n",
              "          const docLinkHtml = 'Like what you see? Visit the ' +\n",
              "            '<a target=\"_blank\" href=https://colab.research.google.com/notebooks/data_table.ipynb>data table notebook</a>'\n",
              "            + ' to learn more about interactive tables.';\n",
              "          element.innerHTML = '';\n",
              "          dataTable['output_type'] = 'display_data';\n",
              "          await google.colab.output.renderOutput(dataTable, element);\n",
              "          const docLink = document.createElement('div');\n",
              "          docLink.innerHTML = docLinkHtml;\n",
              "          element.appendChild(docLink);\n",
              "        }\n",
              "      </script>\n",
              "    </div>\n",
              "  </div>\n",
              "  "
            ]
          },
          "metadata": {},
          "execution_count": 4
        }
      ]
    },
    {
      "cell_type": "code",
      "source": [
        "df.shape"
      ],
      "metadata": {
        "colab": {
          "base_uri": "https://localhost:8080/"
        },
        "id": "ezQoJFf4ekqb",
        "outputId": "238c373c-2e9f-4e6d-e6de-fd9a007f4e3e"
      },
      "execution_count": 5,
      "outputs": [
        {
          "output_type": "execute_result",
          "data": {
            "text/plain": [
              "(51330, 9)"
            ]
          },
          "metadata": {},
          "execution_count": 5
        }
      ]
    },
    {
      "cell_type": "code",
      "source": [
        "df.info()"
      ],
      "metadata": {
        "colab": {
          "base_uri": "https://localhost:8080/"
        },
        "id": "gjkj2jm5eU2b",
        "outputId": "d7985c72-fd06-48f2-d3a6-4bce4fc3a424"
      },
      "execution_count": 6,
      "outputs": [
        {
          "output_type": "stream",
          "name": "stdout",
          "text": [
            "<class 'pandas.core.frame.DataFrame'>\n",
            "RangeIndex: 51330 entries, 0 to 51329\n",
            "Data columns (total 9 columns):\n",
            " #   Column           Non-Null Count  Dtype \n",
            "---  ------           --------------  ----- \n",
            " 0   fsa_id           51330 non-null  int64 \n",
            " 1   name             51330 non-null  object\n",
            " 2   address          51330 non-null  object\n",
            " 3   postcode         51330 non-null  object\n",
            " 4   easting          51330 non-null  int64 \n",
            " 5   northing         51330 non-null  int64 \n",
            " 6   latitude         51330 non-null  object\n",
            " 7   longitude        51330 non-null  object\n",
            " 8   local_authority  51330 non-null  object\n",
            "dtypes: int64(3), object(6)\n",
            "memory usage: 3.5+ MB\n"
          ]
        }
      ]
    },
    {
      "cell_type": "markdown",
      "source": [
        "## **Cleaning**"
      ],
      "metadata": {
        "id": "fJJF80Mgexxt"
      }
    },
    {
      "cell_type": "code",
      "source": [
        "# Checking for null values\n",
        "\n",
        "null = []\n",
        "for i in df:\n",
        "    value = df[i].isin(['\\\\N']).sum()\n",
        "    null.append([f'{i} : {value}'])\n",
        "print(*null, sep = \"\\n\")"
      ],
      "metadata": {
        "colab": {
          "base_uri": "https://localhost:8080/"
        },
        "id": "6IFqyrQm-nny",
        "outputId": "6ff88c5f-495a-474a-d627-44355103e805"
      },
      "execution_count": 7,
      "outputs": [
        {
          "output_type": "stream",
          "name": "stdout",
          "text": [
            "['fsa_id : 0']\n",
            "['name : 0']\n",
            "['address : 0']\n",
            "['postcode : 0']\n",
            "['easting : 0']\n",
            "['northing : 0']\n",
            "['latitude : 767']\n",
            "['longitude : 767']\n",
            "['local_authority : 0']\n"
          ]
        }
      ]
    },
    {
      "cell_type": "code",
      "source": [
        "# Drop null values\n",
        "\n",
        "df.replace('\\\\N', np.nan, inplace=True)\n",
        "df.dropna(inplace=True)"
      ],
      "metadata": {
        "id": "tF1wqvJxe17x"
      },
      "execution_count": 8,
      "outputs": []
    },
    {
      "cell_type": "code",
      "source": [
        "# Check duplicate values\n",
        " \n",
        "df.duplicated().sum()"
      ],
      "metadata": {
        "colab": {
          "base_uri": "https://localhost:8080/"
        },
        "id": "CR1DF4mseiUC",
        "outputId": "63231f53-cc0f-49bd-cc74-237d7f995dfa"
      },
      "execution_count": 9,
      "outputs": [
        {
          "output_type": "execute_result",
          "data": {
            "text/plain": [
              "0"
            ]
          },
          "metadata": {},
          "execution_count": 9
        }
      ]
    },
    {
      "cell_type": "code",
      "source": [
        "df['latitude'] = df['latitude'].astype(float)\n",
        "df['longitude'] = df['longitude'].astype(float)"
      ],
      "metadata": {
        "id": "SZFB-1LBfNFS"
      },
      "execution_count": 10,
      "outputs": []
    },
    {
      "cell_type": "code",
      "source": [
        "df = df.drop(columns = ['fsa_id', 'easting', 'northing'], axis=1)"
      ],
      "metadata": {
        "id": "Z4VgMqq2lYeq"
      },
      "execution_count": 11,
      "outputs": []
    },
    {
      "cell_type": "code",
      "source": [
        "df.info()"
      ],
      "metadata": {
        "colab": {
          "base_uri": "https://localhost:8080/"
        },
        "id": "GCQSza-dfhBK",
        "outputId": "00ecd1f6-d604-44de-f117-e8b2107dfb30"
      },
      "execution_count": 12,
      "outputs": [
        {
          "output_type": "stream",
          "name": "stdout",
          "text": [
            "<class 'pandas.core.frame.DataFrame'>\n",
            "Int64Index: 50563 entries, 0 to 51329\n",
            "Data columns (total 6 columns):\n",
            " #   Column           Non-Null Count  Dtype  \n",
            "---  ------           --------------  -----  \n",
            " 0   name             50563 non-null  object \n",
            " 1   address          50563 non-null  object \n",
            " 2   postcode         50563 non-null  object \n",
            " 3   latitude         50563 non-null  float64\n",
            " 4   longitude        50563 non-null  float64\n",
            " 5   local_authority  50563 non-null  object \n",
            "dtypes: float64(2), object(4)\n",
            "memory usage: 2.7+ MB\n"
          ]
        }
      ]
    },
    {
      "cell_type": "code",
      "source": [
        "df.describe()"
      ],
      "metadata": {
        "colab": {
          "base_uri": "https://localhost:8080/",
          "height": 300
        },
        "id": "W_xzFHt0iBwS",
        "outputId": "d0b1bcc8-de5b-4ecf-ad40-06432fea11ac"
      },
      "execution_count": 13,
      "outputs": [
        {
          "output_type": "execute_result",
          "data": {
            "text/plain": [
              "           latitude     longitude\n",
              "count  50563.000000  50563.000000\n",
              "mean      52.718772     -1.618317\n",
              "std        1.497436      1.415450\n",
              "min       49.892485     -7.384525\n",
              "25%       51.512366     -2.590561\n",
              "50%       52.502652     -1.584745\n",
              "75%       53.585197     -0.449987\n",
              "max       60.764969      1.757763"
            ],
            "text/html": [
              "\n",
              "  <div id=\"df-fcacd22d-f46c-4312-a896-8f9b66da2b95\">\n",
              "    <div class=\"colab-df-container\">\n",
              "      <div>\n",
              "<style scoped>\n",
              "    .dataframe tbody tr th:only-of-type {\n",
              "        vertical-align: middle;\n",
              "    }\n",
              "\n",
              "    .dataframe tbody tr th {\n",
              "        vertical-align: top;\n",
              "    }\n",
              "\n",
              "    .dataframe thead th {\n",
              "        text-align: right;\n",
              "    }\n",
              "</style>\n",
              "<table border=\"1\" class=\"dataframe\">\n",
              "  <thead>\n",
              "    <tr style=\"text-align: right;\">\n",
              "      <th></th>\n",
              "      <th>latitude</th>\n",
              "      <th>longitude</th>\n",
              "    </tr>\n",
              "  </thead>\n",
              "  <tbody>\n",
              "    <tr>\n",
              "      <th>count</th>\n",
              "      <td>50563.000000</td>\n",
              "      <td>50563.000000</td>\n",
              "    </tr>\n",
              "    <tr>\n",
              "      <th>mean</th>\n",
              "      <td>52.718772</td>\n",
              "      <td>-1.618317</td>\n",
              "    </tr>\n",
              "    <tr>\n",
              "      <th>std</th>\n",
              "      <td>1.497436</td>\n",
              "      <td>1.415450</td>\n",
              "    </tr>\n",
              "    <tr>\n",
              "      <th>min</th>\n",
              "      <td>49.892485</td>\n",
              "      <td>-7.384525</td>\n",
              "    </tr>\n",
              "    <tr>\n",
              "      <th>25%</th>\n",
              "      <td>51.512366</td>\n",
              "      <td>-2.590561</td>\n",
              "    </tr>\n",
              "    <tr>\n",
              "      <th>50%</th>\n",
              "      <td>52.502652</td>\n",
              "      <td>-1.584745</td>\n",
              "    </tr>\n",
              "    <tr>\n",
              "      <th>75%</th>\n",
              "      <td>53.585197</td>\n",
              "      <td>-0.449987</td>\n",
              "    </tr>\n",
              "    <tr>\n",
              "      <th>max</th>\n",
              "      <td>60.764969</td>\n",
              "      <td>1.757763</td>\n",
              "    </tr>\n",
              "  </tbody>\n",
              "</table>\n",
              "</div>\n",
              "      <button class=\"colab-df-convert\" onclick=\"convertToInteractive('df-fcacd22d-f46c-4312-a896-8f9b66da2b95')\"\n",
              "              title=\"Convert this dataframe to an interactive table.\"\n",
              "              style=\"display:none;\">\n",
              "        \n",
              "  <svg xmlns=\"http://www.w3.org/2000/svg\" height=\"24px\"viewBox=\"0 0 24 24\"\n",
              "       width=\"24px\">\n",
              "    <path d=\"M0 0h24v24H0V0z\" fill=\"none\"/>\n",
              "    <path d=\"M18.56 5.44l.94 2.06.94-2.06 2.06-.94-2.06-.94-.94-2.06-.94 2.06-2.06.94zm-11 1L8.5 8.5l.94-2.06 2.06-.94-2.06-.94L8.5 2.5l-.94 2.06-2.06.94zm10 10l.94 2.06.94-2.06 2.06-.94-2.06-.94-.94-2.06-.94 2.06-2.06.94z\"/><path d=\"M17.41 7.96l-1.37-1.37c-.4-.4-.92-.59-1.43-.59-.52 0-1.04.2-1.43.59L10.3 9.45l-7.72 7.72c-.78.78-.78 2.05 0 2.83L4 21.41c.39.39.9.59 1.41.59.51 0 1.02-.2 1.41-.59l7.78-7.78 2.81-2.81c.8-.78.8-2.07 0-2.86zM5.41 20L4 18.59l7.72-7.72 1.47 1.35L5.41 20z\"/>\n",
              "  </svg>\n",
              "      </button>\n",
              "      \n",
              "  <style>\n",
              "    .colab-df-container {\n",
              "      display:flex;\n",
              "      flex-wrap:wrap;\n",
              "      gap: 12px;\n",
              "    }\n",
              "\n",
              "    .colab-df-convert {\n",
              "      background-color: #E8F0FE;\n",
              "      border: none;\n",
              "      border-radius: 50%;\n",
              "      cursor: pointer;\n",
              "      display: none;\n",
              "      fill: #1967D2;\n",
              "      height: 32px;\n",
              "      padding: 0 0 0 0;\n",
              "      width: 32px;\n",
              "    }\n",
              "\n",
              "    .colab-df-convert:hover {\n",
              "      background-color: #E2EBFA;\n",
              "      box-shadow: 0px 1px 2px rgba(60, 64, 67, 0.3), 0px 1px 3px 1px rgba(60, 64, 67, 0.15);\n",
              "      fill: #174EA6;\n",
              "    }\n",
              "\n",
              "    [theme=dark] .colab-df-convert {\n",
              "      background-color: #3B4455;\n",
              "      fill: #D2E3FC;\n",
              "    }\n",
              "\n",
              "    [theme=dark] .colab-df-convert:hover {\n",
              "      background-color: #434B5C;\n",
              "      box-shadow: 0px 1px 3px 1px rgba(0, 0, 0, 0.15);\n",
              "      filter: drop-shadow(0px 1px 2px rgba(0, 0, 0, 0.3));\n",
              "      fill: #FFFFFF;\n",
              "    }\n",
              "  </style>\n",
              "\n",
              "      <script>\n",
              "        const buttonEl =\n",
              "          document.querySelector('#df-fcacd22d-f46c-4312-a896-8f9b66da2b95 button.colab-df-convert');\n",
              "        buttonEl.style.display =\n",
              "          google.colab.kernel.accessAllowed ? 'block' : 'none';\n",
              "\n",
              "        async function convertToInteractive(key) {\n",
              "          const element = document.querySelector('#df-fcacd22d-f46c-4312-a896-8f9b66da2b95');\n",
              "          const dataTable =\n",
              "            await google.colab.kernel.invokeFunction('convertToInteractive',\n",
              "                                                     [key], {});\n",
              "          if (!dataTable) return;\n",
              "\n",
              "          const docLinkHtml = 'Like what you see? Visit the ' +\n",
              "            '<a target=\"_blank\" href=https://colab.research.google.com/notebooks/data_table.ipynb>data table notebook</a>'\n",
              "            + ' to learn more about interactive tables.';\n",
              "          element.innerHTML = '';\n",
              "          dataTable['output_type'] = 'display_data';\n",
              "          await google.colab.output.renderOutput(dataTable, element);\n",
              "          const docLink = document.createElement('div');\n",
              "          docLink.innerHTML = docLinkHtml;\n",
              "          element.appendChild(docLink);\n",
              "        }\n",
              "      </script>\n",
              "    </div>\n",
              "  </div>\n",
              "  "
            ]
          },
          "metadata": {},
          "execution_count": 13
        }
      ]
    },
    {
      "cell_type": "code",
      "source": [
        "df.describe(include='object')"
      ],
      "metadata": {
        "colab": {
          "base_uri": "https://localhost:8080/",
          "height": 175
        },
        "id": "DFxtIKjEn3Ey",
        "outputId": "69fc09b7-9a82-4c84-bccf-f16b811ebccc"
      },
      "execution_count": 14,
      "outputs": [
        {
          "output_type": "execute_result",
          "data": {
            "text/plain": [
              "                name                                     address  postcode  \\\n",
              "count          50563                                       50563     50563   \n",
              "unique         35809                                       49290     45230   \n",
              "top     The Red Lion  Uttoxeter Racecourse, Wood Lane, Uttoxeter  GU24 0NY   \n",
              "freq             193                                          10        12   \n",
              "\n",
              "       local_authority  \n",
              "count            50563  \n",
              "unique             360  \n",
              "top      County Durham  \n",
              "freq               680  "
            ],
            "text/html": [
              "\n",
              "  <div id=\"df-2355e622-aca4-4451-8534-c925dd7f1896\">\n",
              "    <div class=\"colab-df-container\">\n",
              "      <div>\n",
              "<style scoped>\n",
              "    .dataframe tbody tr th:only-of-type {\n",
              "        vertical-align: middle;\n",
              "    }\n",
              "\n",
              "    .dataframe tbody tr th {\n",
              "        vertical-align: top;\n",
              "    }\n",
              "\n",
              "    .dataframe thead th {\n",
              "        text-align: right;\n",
              "    }\n",
              "</style>\n",
              "<table border=\"1\" class=\"dataframe\">\n",
              "  <thead>\n",
              "    <tr style=\"text-align: right;\">\n",
              "      <th></th>\n",
              "      <th>name</th>\n",
              "      <th>address</th>\n",
              "      <th>postcode</th>\n",
              "      <th>local_authority</th>\n",
              "    </tr>\n",
              "  </thead>\n",
              "  <tbody>\n",
              "    <tr>\n",
              "      <th>count</th>\n",
              "      <td>50563</td>\n",
              "      <td>50563</td>\n",
              "      <td>50563</td>\n",
              "      <td>50563</td>\n",
              "    </tr>\n",
              "    <tr>\n",
              "      <th>unique</th>\n",
              "      <td>35809</td>\n",
              "      <td>49290</td>\n",
              "      <td>45230</td>\n",
              "      <td>360</td>\n",
              "    </tr>\n",
              "    <tr>\n",
              "      <th>top</th>\n",
              "      <td>The Red Lion</td>\n",
              "      <td>Uttoxeter Racecourse, Wood Lane, Uttoxeter</td>\n",
              "      <td>GU24 0NY</td>\n",
              "      <td>County Durham</td>\n",
              "    </tr>\n",
              "    <tr>\n",
              "      <th>freq</th>\n",
              "      <td>193</td>\n",
              "      <td>10</td>\n",
              "      <td>12</td>\n",
              "      <td>680</td>\n",
              "    </tr>\n",
              "  </tbody>\n",
              "</table>\n",
              "</div>\n",
              "      <button class=\"colab-df-convert\" onclick=\"convertToInteractive('df-2355e622-aca4-4451-8534-c925dd7f1896')\"\n",
              "              title=\"Convert this dataframe to an interactive table.\"\n",
              "              style=\"display:none;\">\n",
              "        \n",
              "  <svg xmlns=\"http://www.w3.org/2000/svg\" height=\"24px\"viewBox=\"0 0 24 24\"\n",
              "       width=\"24px\">\n",
              "    <path d=\"M0 0h24v24H0V0z\" fill=\"none\"/>\n",
              "    <path d=\"M18.56 5.44l.94 2.06.94-2.06 2.06-.94-2.06-.94-.94-2.06-.94 2.06-2.06.94zm-11 1L8.5 8.5l.94-2.06 2.06-.94-2.06-.94L8.5 2.5l-.94 2.06-2.06.94zm10 10l.94 2.06.94-2.06 2.06-.94-2.06-.94-.94-2.06-.94 2.06-2.06.94z\"/><path d=\"M17.41 7.96l-1.37-1.37c-.4-.4-.92-.59-1.43-.59-.52 0-1.04.2-1.43.59L10.3 9.45l-7.72 7.72c-.78.78-.78 2.05 0 2.83L4 21.41c.39.39.9.59 1.41.59.51 0 1.02-.2 1.41-.59l7.78-7.78 2.81-2.81c.8-.78.8-2.07 0-2.86zM5.41 20L4 18.59l7.72-7.72 1.47 1.35L5.41 20z\"/>\n",
              "  </svg>\n",
              "      </button>\n",
              "      \n",
              "  <style>\n",
              "    .colab-df-container {\n",
              "      display:flex;\n",
              "      flex-wrap:wrap;\n",
              "      gap: 12px;\n",
              "    }\n",
              "\n",
              "    .colab-df-convert {\n",
              "      background-color: #E8F0FE;\n",
              "      border: none;\n",
              "      border-radius: 50%;\n",
              "      cursor: pointer;\n",
              "      display: none;\n",
              "      fill: #1967D2;\n",
              "      height: 32px;\n",
              "      padding: 0 0 0 0;\n",
              "      width: 32px;\n",
              "    }\n",
              "\n",
              "    .colab-df-convert:hover {\n",
              "      background-color: #E2EBFA;\n",
              "      box-shadow: 0px 1px 2px rgba(60, 64, 67, 0.3), 0px 1px 3px 1px rgba(60, 64, 67, 0.15);\n",
              "      fill: #174EA6;\n",
              "    }\n",
              "\n",
              "    [theme=dark] .colab-df-convert {\n",
              "      background-color: #3B4455;\n",
              "      fill: #D2E3FC;\n",
              "    }\n",
              "\n",
              "    [theme=dark] .colab-df-convert:hover {\n",
              "      background-color: #434B5C;\n",
              "      box-shadow: 0px 1px 3px 1px rgba(0, 0, 0, 0.15);\n",
              "      filter: drop-shadow(0px 1px 2px rgba(0, 0, 0, 0.3));\n",
              "      fill: #FFFFFF;\n",
              "    }\n",
              "  </style>\n",
              "\n",
              "      <script>\n",
              "        const buttonEl =\n",
              "          document.querySelector('#df-2355e622-aca4-4451-8534-c925dd7f1896 button.colab-df-convert');\n",
              "        buttonEl.style.display =\n",
              "          google.colab.kernel.accessAllowed ? 'block' : 'none';\n",
              "\n",
              "        async function convertToInteractive(key) {\n",
              "          const element = document.querySelector('#df-2355e622-aca4-4451-8534-c925dd7f1896');\n",
              "          const dataTable =\n",
              "            await google.colab.kernel.invokeFunction('convertToInteractive',\n",
              "                                                     [key], {});\n",
              "          if (!dataTable) return;\n",
              "\n",
              "          const docLinkHtml = 'Like what you see? Visit the ' +\n",
              "            '<a target=\"_blank\" href=https://colab.research.google.com/notebooks/data_table.ipynb>data table notebook</a>'\n",
              "            + ' to learn more about interactive tables.';\n",
              "          element.innerHTML = '';\n",
              "          dataTable['output_type'] = 'display_data';\n",
              "          await google.colab.output.renderOutput(dataTable, element);\n",
              "          const docLink = document.createElement('div');\n",
              "          docLink.innerHTML = docLinkHtml;\n",
              "          element.appendChild(docLink);\n",
              "        }\n",
              "      </script>\n",
              "    </div>\n",
              "  </div>\n",
              "  "
            ]
          },
          "metadata": {},
          "execution_count": 14
        }
      ]
    },
    {
      "cell_type": "markdown",
      "source": [
        "## **Map of the Pubs**"
      ],
      "metadata": {
        "id": "azBpvDEQjr2r"
      }
    },
    {
      "cell_type": "code",
      "source": [
        "fig = plt.figure(figsize=(12, 15))\n",
        "\n",
        "# Define map boundaries\n",
        "lat_min, lat_max = 50.0, 65.0\n",
        "lon_min, lon_max = -9.0, 2.0\n",
        "\n",
        "# Create Basemap object\n",
        "m = Basemap(projection='merc', resolution='i',\n",
        "            llcrnrlat=lat_min, urcrnrlat=lat_max,\n",
        "            llcrnrlon=lon_min, urcrnrlon=lon_max)\n",
        "\n",
        "# Draw map features\n",
        "m.drawcoastlines()\n",
        "m.drawcountries()\n",
        "m.fillcontinents(color='lightgray', lake_color='white')\n",
        "\n",
        "# Plot pub locations on the map\n",
        "x, y = m(df['longitude'].values, df['latitude'].values)\n",
        "m.plot(x, y, 'o', markersize=2, color='red')\n",
        "\n",
        "# Show the map\n",
        "plt.show()"
      ],
      "metadata": {
        "colab": {
          "base_uri": "https://localhost:8080/",
          "height": 1000
        },
        "id": "Hs63IHI3h0mC",
        "outputId": "a9d8a48b-4aaf-41b7-cec8-7b66d16f2ff1"
      },
      "execution_count": 15,
      "outputs": [
        {
          "output_type": "display_data",
          "data": {
            "text/plain": [
              "<Figure size 1200x1500 with 1 Axes>"
            ],
            "image/png": "[encoded data removed]"
          },
          "metadata": {}
        }
      ]
    },
    {
      "cell_type": "code",
      "source": [
        "df.to_csv('data.csv', index = False)"
      ],
      "metadata": {
        "id": "6R-TQEUQxrJ5"
      },
      "execution_count": 17,
      "outputs": []
    }
  ]
}